{
 "cells": [
  {
   "cell_type": "code",
   "execution_count": 1,
   "metadata": {},
   "outputs": [],
   "source": [
    "import numpy as np\n",
    "\n",
    "N = 6\n",
    "a1 = np.zeros((N, N), dtype=float)\n",
    "for i in range(N):\n",
    "    for j in range(N):\n",
    "        a1[i, j] = 3. / (0.6*i*j + 1)"
   ]
  },
  {
   "cell_type": "code",
   "execution_count": 2,
   "metadata": {},
   "outputs": [],
   "source": [
    "a2 = a1.copy()\n",
    "a2[1, 1] = 3"
   ]
  },
  {
   "cell_type": "code",
   "execution_count": 3,
   "metadata": {},
   "outputs": [],
   "source": [
    "#For a naive LU decomposition to work, all leading minors of a matrix should be non-zero.\n",
    "#Check if this requirement is satisfied for the two matrices a and a1.\n",
    "def leading_minors(a):\n",
    "    for i in range(N):\n",
    "        B = np.zeros((N-1, N-1), dtype=float)\n",
    "        B[:i,:i] = a[:i,:i]\n",
    "        B[:i,i:] = a[:i,i+1:]\n",
    "        B[i:,:i] = a[i+1:,:i]\n",
    "        B[i:,i:] = a[i+1:,i+1:]\n",
    "        if np.linalg.det(B) == 0.0:\n",
    "            print('Leading minor a', i, i, ' of a matrix\\n', a, '\\nis zero.', sep='')"
   ]
  },
  {
   "cell_type": "code",
   "execution_count": 4,
   "metadata": {},
   "outputs": [],
   "source": [
    "leading_minors(a1)\n",
    "leading_minors(a2)"
   ]
  },
  {
   "cell_type": "code",
   "execution_count": 5,
   "metadata": {},
   "outputs": [],
   "source": [
    "#Modify the `diy_lu` routine to implement column pivoting. \n",
    "def diy_lu_pivot(a):\n",
    "    \n",
    "    N = a.shape[0]\n",
    "    \n",
    "    u = a.copy()\n",
    "    L = np.eye(N)\n",
    "    P = np.eye(N)\n",
    "\n",
    "    for i in range(N):\n",
    "        xx = 0.0\n",
    "        yy = -1\n",
    "        for y in range(i, N):\n",
    "            if abs(u[y, i]) > xx:\n",
    "                xx = abs(u[y, i])\n",
    "                yy = y\n",
    "        P[yy:yy+1], P[i:i+1] = P[i:i+1].copy(), P[yy:yy+1].copy()\n",
    "        u[yy:yy+1], u[i:i+1] = u[i:i+1].copy(), u[yy:yy+1].copy()\n",
    "        for j in range(i+1, N):\n",
    "                u[j, i] = u[j, i] / u[i, i]\n",
    "                for k in range(i+1, N):\n",
    "                    u[j, k] = u[j, k] - u[j, i] * u[i, k]\n",
    "\n",
    "    for j in range(N):\n",
    "        L[j, :j], u[j, :j] = u[j, :j].copy(), L[j, :j].copy()\n",
    "        \n",
    "    return L, u, P"
   ]
  },
  {
   "cell_type": "code",
   "execution_count": 6,
   "metadata": {},
   "outputs": [
    {
     "name": "stdout",
     "output_type": "stream",
     "text": [
      "[[ 0.00000000e+00  0.00000000e+00  0.00000000e+00  0.00000000e+00\n",
      "   0.00000000e+00  0.00000000e+00]\n",
      " [ 0.00000000e+00  0.00000000e+00 -1.66533454e-16 -1.66533454e-16\n",
      "   5.55111512e-17  0.00000000e+00]\n",
      " [ 0.00000000e+00  0.00000000e+00  0.00000000e+00  0.00000000e+00\n",
      "   0.00000000e+00  0.00000000e+00]\n",
      " [ 0.00000000e+00  0.00000000e+00  0.00000000e+00  2.22044605e-16\n",
      "  -1.11022302e-16 -1.66533454e-16]\n",
      " [ 0.00000000e+00 -2.22044605e-16  2.22044605e-16 -5.55111512e-17\n",
      "  -1.66533454e-16 -1.66533454e-16]\n",
      " [ 0.00000000e+00  0.00000000e+00 -1.11022302e-16 -1.66533454e-16\n",
      "   1.66533454e-16  5.55111512e-17]]\n"
     ]
    }
   ],
   "source": [
    "L1, u1, P1 = diy_lu_pivot(a1)\n",
    "print(L1.dot(u1) - P1.dot(a1))"
   ]
  },
  {
   "cell_type": "code",
   "execution_count": 7,
   "metadata": {},
   "outputs": [
    {
     "name": "stdout",
     "output_type": "stream",
     "text": [
      "[[ 0.00000000e+00  0.00000000e+00  0.00000000e+00  0.00000000e+00\n",
      "   0.00000000e+00  0.00000000e+00]\n",
      " [ 0.00000000e+00  0.00000000e+00 -1.66533454e-16 -1.66533454e-16\n",
      "   5.55111512e-17  0.00000000e+00]\n",
      " [ 0.00000000e+00  0.00000000e+00  0.00000000e+00  0.00000000e+00\n",
      "   0.00000000e+00  0.00000000e+00]\n",
      " [ 0.00000000e+00  0.00000000e+00  0.00000000e+00  2.22044605e-16\n",
      "  -1.11022302e-16 -1.66533454e-16]\n",
      " [ 0.00000000e+00 -2.22044605e-16  2.22044605e-16 -5.55111512e-17\n",
      "  -1.11022302e-16 -1.66533454e-16]\n",
      " [ 0.00000000e+00  0.00000000e+00 -1.11022302e-16 -1.66533454e-16\n",
      "   1.66533454e-16  5.55111512e-17]]\n"
     ]
    }
   ],
   "source": [
    "L2, u2, P2 = diy_lu_pivot(a2)\n",
    "print(L2.dot(u2) - P2.dot(a2))"
   ]
  },
  {
   "cell_type": "code",
   "execution_count": 8,
   "metadata": {},
   "outputs": [],
   "source": [
    "def sum_LU(A):\n",
    "    a = 0.0\n",
    "    for i in range(N):\n",
    "        for j in range(N):\n",
    "            a += A[i, j]\n",
    "    return a"
   ]
  },
  {
   "cell_type": "code",
   "execution_count": 9,
   "metadata": {},
   "outputs": [
    {
     "name": "stdout",
     "output_type": "stream",
     "text": [
      "L2 15.166249240140566\n",
      "U2 -3.45665900832808\n"
     ]
    }
   ],
   "source": [
    "print('L2', sum_LU(L2))\n",
    "print('U2', sum_LU(u2))"
   ]
  },
  {
   "cell_type": "code",
   "execution_count": null,
   "metadata": {},
   "outputs": [],
   "source": []
  }
 ],
 "metadata": {
  "kernelspec": {
   "display_name": "Python 3",
   "language": "python",
   "name": "python3"
  },
  "language_info": {
   "codemirror_mode": {
    "name": "ipython",
    "version": 3
   },
   "file_extension": ".py",
   "mimetype": "text/x-python",
   "name": "python",
   "nbconvert_exporter": "python",
   "pygments_lexer": "ipython3",
   "version": "3.7.4"
  }
 },
 "nbformat": 4,
 "nbformat_minor": 2
}
